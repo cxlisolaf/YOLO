{
 "cells": [
  {
   "cell_type": "markdown",
   "metadata": {},
   "source": [
    "# Purpose\n",
    "\n",
    "This notebook takes images from the training set located at http://www.cvlibs.net/datasets/kitti/eval_object.php and combines the annotations with the images, effectively drawing bounding boxes on the images.\n",
    "\n",
    "The purpose is to see what the data looks like before we start working with it."
   ]
  },
  {
   "cell_type": "code",
   "execution_count": null,
   "metadata": {
    "collapsed": true
   },
   "outputs": [],
   "source": [
    "import cv2\n",
    "import numpy as np\n",
    "import pandas as pd\n",
    "from matplotlib import pyplot as plt\n",
    "import progressbar as pb\n",
    "%matplotlib inline\n",
    "\n",
    "# Given the OpenCV image object and dataframe of its training data, annotate with bounding box and label\n",
    "def annotate_image(img, df):\n",
    "    for row in df.iterrows():\n",
    "        label = row[1][0]\n",
    "        if label not in ['Car', 'Pedestrian']:\n",
    "            continue\n",
    "        bounds = np.round(row[1][4:8].tolist()).astype(int)\n",
    "        cv2.rectangle(img, tuple(bounds[:2]), tuple(bounds[2:]), (0, 255, 0), 2)\n",
    "        cv2.putText(img, label, (bounds[0], bounds[1] - 5), cv2.FONT_HERSHEY_PLAIN, 1, (0, 255, 0))\n",
    "    return img\n",
    "\n",
    "# Format integer to a string (images and labels are called 000015.png and 000015.txt)\n",
    "def format_number(i):\n",
    "    return '{:06d}'.format(i)\n",
    "\n",
    "# Load traing data image and object label file converted into a dataframe\n",
    "def load_data(i):\n",
    "    s = format_number(i)\n",
    "    img = cv2.imread('/home/ryan/Desktop/KITTI_Vision/data_object_image_2/training/image_2/{:s}.png'.format(s), 1)\n",
    "    df = pd.read_csv('/home/ryan/Desktop/KITTI_Vision/training/label_2/{:s}.txt'.format(s), sep='\\s+', header=None)\n",
    "    return img, df\n",
    "\n",
    "# Plot image if you'd like\n",
    "def plot_image(img):\n",
    "    plt.figure(figsize=[15,10])\n",
    "    plt.imshow(img)\n",
    "    plt.show()"
   ]
  },
  {
   "cell_type": "code",
   "execution_count": 119,
   "metadata": {},
   "outputs": [
    {
     "name": "stderr",
     "output_type": "stream",
     "text": [
      "100% (7480 of 7480) |#####################| Elapsed Time: 0:05:52 Time: 0:05:52\n"
     ]
    }
   ],
   "source": [
    "# Go through all images and annotate them with boxes and text\n",
    "bar = pb.ProgressBar()\n",
    "for i in bar(range(7480)):\n",
    "    img = annotate_image(*load_data(i))\n",
    "    cv2.imwrite('/home/ryan/Desktop/KITTI_Vision/labeled/{:s}.png'.format(format_number(i)), img)"
   ]
  }
 ],
 "metadata": {
  "kernelspec": {
   "display_name": "Python 3",
   "language": "python",
   "name": "python3"
  },
  "language_info": {
   "codemirror_mode": {
    "name": "ipython",
    "version": 3
   },
   "file_extension": ".py",
   "mimetype": "text/x-python",
   "name": "python",
   "nbconvert_exporter": "python",
   "pygments_lexer": "ipython3",
   "version": "3.6.3"
  }
 },
 "nbformat": 4,
 "nbformat_minor": 2
}
